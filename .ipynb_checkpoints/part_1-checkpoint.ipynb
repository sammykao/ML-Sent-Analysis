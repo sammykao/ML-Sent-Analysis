{
 "cells": [
  {
   "cell_type": "code",
   "execution_count": 1,
   "metadata": {},
   "outputs": [],
   "source": [
    "import os\n",
    "import pandas as pd\n",
    "import numpy as np\n",
    "from sklearn.feature_extraction.text import CountVectorizer\n",
    "from sklearn.linear_model import LogisticRegression\n",
    "from sklearn.model_selection import GridSearchCV, KFold\n",
    "from sklearn.metrics import roc_auc_score, make_scorer\n",
    "from spellchecker import SpellChecker\n",
    "import re\n",
    "from tqdm import tqdm\n",
    "import matplotlib.pyplot as plt"
   ]
  },
  {
   "cell_type": "code",
   "execution_count": 6,
   "metadata": {},
   "outputs": [],
   "source": [
    "def clean_text(text):\n",
    "        text = text.lower()\n",
    "\n",
    "        text = ''.join([char if char.isalpha() or char.isspace() else '' for char in text])\n",
    "\n",
    "        spell = SpellChecker()\n",
    "        corrected_words = [spell.correction(word) if spell.correction(word) is not None else word for word in text.split()]\n",
    "\n",
    "        text = ' '.join(corrected_words)\n",
    "\n",
    "        return text"
   ]
  },
  {
   "cell_type": "code",
   "execution_count": 7,
   "metadata": {},
   "outputs": [
    {
     "name": "stdout",
     "output_type": "stream",
     "text": [
      "Shape of x_train_df: (2400, 2)\n",
      "Shape of y_train_df: (2400, 1)\n",
      "row     0 | y = 0 | Oh and I forgot to also mention the weird color effect it has on your phone.\n",
      "row     1 | y = 0 | THAT one didn't work either.\n",
      "row     2 | y = 0 | Waste of 13 bucks.\n",
      "row     3 | y = 0 | Product is useless, since it does not have enough charging current to charge the 2 cellphones I was planning to use it with.\n",
      "row     4 | y = 0 | None of the three sizes they sent with the headset would stay in my ears.\n",
      "...\n",
      "row  2395 | y = 1 | The sweet potato fries were very good and seasoned well.\n",
      "row  2396 | y = 1 | I could eat their bruschetta all day it is devine.\n",
      "row  2397 | y = 1 | Ambience is perfect.\n",
      "row  2398 | y = 1 | We ordered the duck rare and it was pink and tender on the inside with a nice char on the outside.\n",
      "row  2399 | y = 1 | Service was good and the company was better!\n"
     ]
    }
   ],
   "source": [
    "data_dir = 'data_reviews'\n",
    "x_train_df = pd.read_csv(os.path.join(data_dir, 'x_train.csv'))\n",
    "y_train_df = pd.read_csv(os.path.join(data_dir, 'y_train.csv'))\n",
    "x_test_df = pd.read_csv(os.path.join(data_dir, 'x_test.csv'))\n",
    "\n",
    "\n",
    "N, n_cols = x_train_df.shape\n",
    "print(\"Shape of x_train_df: (%d, %d)\" % (N,n_cols))\n",
    "print(\"Shape of y_train_df: %s\" % str(y_train_df.shape))\n",
    "\n",
    "# Print out the first five rows and last five rows\n",
    "tr_text_list = x_train_df['text'].values.tolist()\n",
    "rows = np.arange(0, 5)\n",
    "for row_id in rows:\n",
    "    text = tr_text_list[row_id]\n",
    "    print(\"row %5d | y = %d | %s\" % (row_id, y_train_df.values[row_id,0], text))\n",
    "\n",
    "print(\"...\")\n",
    "rows = np.arange(N - 5, N)\n",
    "for row_id in rows:\n",
    "    text = tr_text_list[row_id]\n",
    "    print(\"row %5d | y = %d | %s\" % (row_id, y_train_df.values[row_id,0], text))"
   ]
  },
  {
   "cell_type": "code",
   "execution_count": 8,
   "metadata": {},
   "outputs": [
    {
     "name": "stderr",
     "output_type": "stream",
     "text": [
      "100%|███████████████████████████████████████████████████████████████████████████████████████████████████████████████| 2400/2400 [22:10<00:00,  1.80it/s]\n"
     ]
    }
   ],
   "source": [
    "# Clean the text data\n",
    "# x_train_df['cleaned_text'] = x_train_df['text'].apply(clean_text)\n",
    "# train_sentences = x_train_df['cleaned_text'].tolist()\n",
    "# y_train = y_train_df['is_positive_sentiment'].values\n",
    "\n",
    "# just for a progress bar - same as above, but with progress bar\n",
    "tqdm.pandas()\n",
    "\n",
    "# Clean the text data with progress tracking\n",
    "x_train_df['cleaned_text'] = x_train_df['text'].progress_apply(clean_text)\n",
    "train_sentences = x_train_df['cleaned_text'].tolist()\n",
    "y_train = y_train_df['is_positive_sentiment'].values"
   ]
  },
  {
   "cell_type": "code",
   "execution_count": null,
   "metadata": {},
   "outputs": [],
   "source": []
  },
  {
   "cell_type": "code",
   "execution_count": 13,
   "metadata": {},
   "outputs": [
    {
     "name": "stdout",
     "output_type": "stream",
     "text": [
      "Performing GridSearch with 3 CV folds and 1 as vector count minimum...\n",
      "Best parameters for 3 CV folds and 1 Min: {'C': 10, 'penalty': 'l2'}\n",
      "Best AUROC for 3 CV folds and 1 Min: 0.7345833333333333\n"
     ]
    },
    {
     "ename": "NameError",
     "evalue": "name 'clear_output' is not defined",
     "output_type": "error",
     "traceback": [
      "\u001b[1;31m---------------------------------------------------------------------------\u001b[0m",
      "\u001b[1;31mNameError\u001b[0m                                 Traceback (most recent call last)",
      "Cell \u001b[1;32mIn[13], line 66\u001b[0m\n\u001b[0;32m     60\u001b[0m     best_combo \u001b[38;5;241m=\u001b[39m {\n\u001b[0;32m     61\u001b[0m         \u001b[38;5;124m\"\u001b[39m\u001b[38;5;124mnum_folds\u001b[39m\u001b[38;5;124m\"\u001b[39m: num_fold,\n\u001b[0;32m     62\u001b[0m         \u001b[38;5;124m\"\u001b[39m\u001b[38;5;124mmin_count\u001b[39m\u001b[38;5;124m\"\u001b[39m: min_count\n\u001b[0;32m     63\u001b[0m     }\n\u001b[0;32m     65\u001b[0m \u001b[38;5;66;03m# Live update of the plot\u001b[39;00m\n\u001b[1;32m---> 66\u001b[0m \u001b[43mclear_output\u001b[49m(wait\u001b[38;5;241m=\u001b[39m\u001b[38;5;28;01mTrue\u001b[39;00m)\n\u001b[0;32m     67\u001b[0m df_performance \u001b[38;5;241m=\u001b[39m pd\u001b[38;5;241m.\u001b[39mDataFrame(performance_data, columns\u001b[38;5;241m=\u001b[39m[\u001b[38;5;124m'\u001b[39m\u001b[38;5;124mnum_folds\u001b[39m\u001b[38;5;124m'\u001b[39m, \u001b[38;5;124m'\u001b[39m\u001b[38;5;124mmin_count\u001b[39m\u001b[38;5;124m'\u001b[39m, \u001b[38;5;124m'\u001b[39m\u001b[38;5;124mC\u001b[39m\u001b[38;5;124m'\u001b[39m, \u001b[38;5;124m'\u001b[39m\u001b[38;5;124mpenalty\u001b[39m\u001b[38;5;124m'\u001b[39m, \u001b[38;5;124m'\u001b[39m\u001b[38;5;124mAUROC\u001b[39m\u001b[38;5;124m'\u001b[39m])\n\u001b[0;32m     69\u001b[0m plt\u001b[38;5;241m.\u001b[39mfigure(figsize\u001b[38;5;241m=\u001b[39m(\u001b[38;5;241m10\u001b[39m, \u001b[38;5;241m6\u001b[39m))\n",
      "\u001b[1;31mNameError\u001b[0m: name 'clear_output' is not defined"
     ]
    }
   ],
   "source": [
    "# Define the Logistic Regression model\n",
    "log_reg = LogisticRegression(solver='liblinear')\n",
    "\n",
    "# Define the hyperparameter grid for regularization (C) and penalty types\n",
    "param_grid = {\n",
    "    'C': [0.01, 0.1, 1, 10, 100],  # Different values of regularization strength\n",
    "    'penalty': ['l1', 'l2'],     # Different penalty types\n",
    "}\n",
    "\n",
    "num_folds = [3, 4, 5]\n",
    "min_counts = [1, 2, 3, 4, 5]\n",
    "\n",
    "# Use AUROC as the scoring metric\n",
    "scorer = make_scorer(roc_auc_score, greater_is_better=True)\n",
    "\n",
    "# Initialize variables to store the best result across different fold searches\n",
    "best_overall_model = None\n",
    "best_overall_params = None\n",
    "best_overall_score = -1\n",
    "best_combo = None  # To keep track of the number of folds for the best parameters\n",
    "\n",
    "# Store results for visualization\n",
    "performance_data = []\n",
    "\n",
    "# Loop through different values of CV (3, 4, 5 folds)\n",
    "for num_fold in num_folds:\n",
    "    for min_count in min_counts:\n",
    "        print(f\"Performing GridSearch with {num_fold} CV folds and {min_count} as vector count minimum...\")\n",
    "        \n",
    "        vectorizer = CountVectorizer(stop_words='english', min_df=min_count, max_df=0.7)\n",
    "\n",
    "        # Transform the training data into the BoW matrix\n",
    "        X_train_bow = vectorizer.fit_transform(train_sentences)\n",
    "        # Define the KFold cross-validator for the current fold size\n",
    "        kf = KFold(n_splits=num_fold)\n",
    "\n",
    "        # Initialize the grid search for the current CV fold\n",
    "        grid_search = GridSearchCV(log_reg, param_grid=param_grid, \n",
    "                                   scoring=scorer, cv=kf, n_jobs=-1)\n",
    "\n",
    "        # Perform the grid search on the training data\n",
    "        grid_search.fit(X_train_bow, y_train)\n",
    "\n",
    "        # Get the best model and score for the current fold\n",
    "        best_model = grid_search.best_estimator_\n",
    "        best_params = grid_search.best_params_\n",
    "        best_score = grid_search.best_score_\n",
    "\n",
    "        print(f\"Best parameters for {num_fold} CV folds and {min_count} Min: {best_params}\")\n",
    "        print(f\"Best AUROC for {num_fold} CV folds and {min_count} Min: {best_score}\")\n",
    "\n",
    "        # Append results for live visualization\n",
    "        performance_data.append([num_fold, min_count, best_params['C'], best_params['penalty'], best_score])\n",
    "        \n",
    "        # Compare with the overall best score\n",
    "        if best_score > best_overall_score:\n",
    "            best_overall_model = best_model\n",
    "            best_overall_params = best_params\n",
    "            best_overall_score = best_score\n",
    "            best_combo = {\n",
    "                \"num_folds\": num_fold,\n",
    "                \"min_count\": min_count\n",
    "            }\n",
    "\n",
    "        # Live update of the plot\n",
    "        clear_output(wait=True)\n",
    "        df_performance = pd.DataFrame(performance_data, columns=['num_folds', 'min_count', 'C', 'penalty', 'AUROC'])\n",
    "        \n",
    "        plt.figure(figsize=(10, 6))\n",
    "        for penalty in df_performance['penalty'].unique():\n",
    "            subset = df_performance[df_performance['penalty'] == penalty]\n",
    "            plt.plot(subset['C'], subset['AUROC'], label=f'Penalty: {penalty}, Folds: {num_fold}, Min Count: {min_count}', marker='o')\n",
    "\n",
    "        plt.title('AUROC by Regularization Strength (C) During Grid Search')\n",
    "        plt.xlabel('C (Regularization Strength)')\n",
    "        plt.ylabel('AUROC')\n",
    "        plt.xscale('log')\n",
    "        plt.legend()\n",
    "        plt.grid(True)\n",
    "        plt.show()\n",
    "\n",
    "# After the grid search completes, display the final performance data\n",
    "df_performance_final = pd.DataFrame(performance_data, columns=['num_folds', 'min_count', 'C', 'penalty', 'AUROC'])\n",
    "\n",
    "# Plot the final performance data\n",
    "plt.figure(figsize=(10, 6))\n",
    "for penalty in df_performance_final['penalty'].unique():\n",
    "    subset = df_performance_final[df_performance_final['penalty'] == penalty]\n",
    "    plt.plot(subset['C'], subset['AUROC'], label=f'Penalty: {penalty}', marker='o')\n",
    "\n",
    "plt.title('Final AUROC by Regularization Strength (C)')\n",
    "plt.xlabel('C (Regularization Strength)')\n",
    "plt.ylabel('AUROC')\n",
    "plt.xscale('log')\n",
    "plt.legend()\n",
    "plt.grid(True)\n",
    "plt.show()\n",
    "\n",
    "# Display the final performance DataFrame as a table using matplotlib\n",
    "fig, ax = plt.subplots(figsize=(10, 6))\n",
    "ax.axis('tight')\n",
    "ax.axis('off')\n",
    "table = ax.table(cellText=df_performance_final.values, colLabels=df_performance_final.columns, cellLoc='center', loc='center')\n",
    "\n",
    "plt.show()\n",
    "\n",
    "# Also, print the best results summary for clarity\n",
    "print(f\"\\nBest parameters overall: {best_overall_params}\")\n",
    "print(f\"Best AUROC overall: {best_overall_score}\")\n",
    "print(f\"Best configuration: {best_combo}\")"
   ]
  },
  {
   "cell_type": "code",
   "execution_count": 10,
   "metadata": {},
   "outputs": [
    {
     "data": {
      "image/png": "[encoded data removed]",
      "text/plain": [
       "<Figure size 640x480 with 1 Axes>"
      ]
     },
     "metadata": {},
     "output_type": "display_data"
    }
   ],
   "source": [
    "# Get the results from grid search\n",
    "results = pd.DataFrame(grid_search.cv_results_)\n",
    "\n",
    "# Plot training and validation AUROC\n",
    "plt.errorbar(results['param_C'], results['mean_test_score'], yerr=results['std_test_score'], label='Validation AUROC')\n",
    "plt.xlabel('Regularization Strength (C)')\n",
    "plt.ylabel('AUROC')\n",
    "plt.title('Hyperparameter Tuning - Regularization (C)')\n",
    "plt.legend()\n",
    "plt.show()"
   ]
  },
  {
   "cell_type": "code",
   "execution_count": 11,
   "metadata": {},
   "outputs": [],
   "source": [
    "# Train the final model on the full training data using the best C\n",
    "final_model = LogisticRegression(C=best_params['C'], solver='liblinear')\n",
    "final_model.fit(X_train_bow, y_train)\n",
    "\n",
    "# Apply on test data\n",
    "x_test_df['cleaned_text'] = x_test_df['text'].apply(clean_text)\n",
    "\n",
    "# Transform test data using the trained vectorizer\n",
    "X_test_bow = vectorizer.transform(x_test_df['cleaned_text'].tolist())\n",
    "\n",
    "# Predict probabilities\n",
    "y_test_pred = final_model.predict_proba(X_test_bow)[:, 1]\n"
   ]
  },
  {
   "cell_type": "code",
   "execution_count": 12,
   "metadata": {},
   "outputs": [],
   "source": [
    "np.savetxt('yproba1_test.txt', y_test_pred, delimiter='\\n', fmt='%.6f')  # fmt='%.6f' for six decimal places\n"
   ]
  },
  {
   "cell_type": "code",
   "execution_count": null,
   "metadata": {},
   "outputs": [],
   "source": []
  }
 ],
 "metadata": {
  "kernelspec": {
   "display_name": "Python 3 (ipykernel)",
   "language": "python",
   "name": "python3"
  },
  "language_info": {
   "codemirror_mode": {
    "name": "ipython",
    "version": 3
   },
   "file_extension": ".py",
   "mimetype": "text/x-python",
   "name": "python",
   "nbconvert_exporter": "python",
   "pygments_lexer": "ipython3",
   "version": "3.10.14"
  }
 },
 "nbformat": 4,
 "nbformat_minor": 2
}
