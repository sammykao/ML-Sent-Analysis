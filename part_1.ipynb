{
 "cells": [
  {
   "cell_type": "code",
   "execution_count": 27,
   "metadata": {},
   "outputs": [],
   "source": [
    "import os\n",
    "import pandas as pd\n",
    "import numpy as np\n",
    "from sklearn.feature_extraction.text import CountVectorizer\n",
    "from sklearn.linear_model import LogisticRegression\n",
    "from sklearn.model_selection import GridSearchCV, KFold\n",
    "from sklearn.metrics import roc_auc_score, make_scorer\n",
    "from spellchecker import SpellChecker\n",
    "import re\n",
    "from tqdm import tqdm\n",
    "import matplotlib.pyplot as plt"
   ]
  },
  {
   "cell_type": "code",
   "execution_count": 12,
   "metadata": {},
   "outputs": [],
   "source": [
    "def clean_text(text):\n",
    "        text = text.lower()\n",
    "\n",
    "        text = re.sub(r'[^a-z\\s]', '', text)\n",
    "\n",
    "        spell = SpellChecker()\n",
    "        corrected_words = [spell.correction(word) if spell.correction(word) is not None else word for word in text.split()]\n",
    "\n",
    "        text = ' '.join(corrected_words)\n",
    "\n",
    "        return text"
   ]
  },
  {
   "cell_type": "code",
   "execution_count": 30,
   "metadata": {},
   "outputs": [
    {
     "name": "stdout",
     "output_type": "stream",
     "text": [
      "Shape of x_train_df: (2400, 2)\n",
      "Shape of y_train_df: (2400, 1)\n",
      "row     0 | y = 0 | Oh and I forgot to also mention the weird color effect it has on your phone.\n",
      "row     1 | y = 0 | THAT one didn't work either.\n",
      "row     2 | y = 0 | Waste of 13 bucks.\n",
      "row     3 | y = 0 | Product is useless, since it does not have enough charging current to charge the 2 cellphones I was planning to use it with.\n",
      "row     4 | y = 0 | None of the three sizes they sent with the headset would stay in my ears.\n",
      "...\n",
      "row  2395 | y = 1 | The sweet potato fries were very good and seasoned well.\n",
      "row  2396 | y = 1 | I could eat their bruschetta all day it is devine.\n",
      "row  2397 | y = 1 | Ambience is perfect.\n",
      "row  2398 | y = 1 | We ordered the duck rare and it was pink and tender on the inside with a nice char on the outside.\n",
      "row  2399 | y = 1 | Service was good and the company was better!\n"
     ]
    }
   ],
   "source": [
    "data_dir = 'data_reviews'\n",
    "x_train_df = pd.read_csv(os.path.join(data_dir, 'x_train.csv'))\n",
    "y_train_df = pd.read_csv(os.path.join(data_dir, 'y_train.csv'))\n",
    "x_test_df = pd.read_csv(os.path.join(data_dir, 'x_test.csv'))\n",
    "\n",
    "\n",
    "N, n_cols = x_train_df.shape\n",
    "print(\"Shape of x_train_df: (%d, %d)\" % (N,n_cols))\n",
    "print(\"Shape of y_train_df: %s\" % str(y_train_df.shape))\n",
    "\n",
    "# Print out the first five rows and last five rows\n",
    "tr_text_list = x_train_df['text'].values.tolist()\n",
    "rows = np.arange(0, 5)\n",
    "for row_id in rows:\n",
    "    text = tr_text_list[row_id]\n",
    "    print(\"row %5d | y = %d | %s\" % (row_id, y_train_df.values[row_id,0], text))\n",
    "\n",
    "print(\"...\")\n",
    "rows = np.arange(N - 5, N)\n",
    "for row_id in rows:\n",
    "    text = tr_text_list[row_id]\n",
    "    print(\"row %5d | y = %d | %s\" % (row_id, y_train_df.values[row_id,0], text))"
   ]
  },
  {
   "cell_type": "code",
   "execution_count": 17,
   "metadata": {},
   "outputs": [
    {
     "name": "stderr",
     "output_type": "stream",
     "text": [
      "100%|██████████| 2400/2400 [04:39<00:00,  8.59it/s]\n"
     ]
    }
   ],
   "source": [
    "# Clean the text data\n",
    "# x_train_df['cleaned_text'] = x_train_df['text'].apply(clean_text)\n",
    "# train_sentences = x_train_df['cleaned_text'].tolist()\n",
    "# y_train = y_train_df['is_positive_sentiment'].values\n",
    "\n",
    "# just for a progress bar - same as above, but with progress bar\n",
    "tqdm.pandas()\n",
    "\n",
    "# Clean the text data with progress tracking\n",
    "x_train_df['cleaned_text'] = x_train_df['text'].progress_apply(clean_text)\n",
    "train_sentences = x_train_df['cleaned_text'].tolist()\n",
    "y_train = y_train_df['is_positive_sentiment'].values"
   ]
  },
  {
   "cell_type": "code",
   "execution_count": 18,
   "metadata": {},
   "outputs": [],
   "source": [
    "vectorizer = CountVectorizer(stop_words='english', min_df=5, max_df=0.7)\n",
    "\n",
    "# Transform the training data into the BoW matrix\n",
    "X_train_bow = vectorizer.fit_transform(train_sentences)"
   ]
  },
  {
   "cell_type": "code",
   "execution_count": 26,
   "metadata": {},
   "outputs": [
    {
     "name": "stdout",
     "output_type": "stream",
     "text": [
      "Performing GridSearch with 3 CV folds...\n",
      "Best parameters for 3 CV folds: {'C': 1, 'penalty': 'l2'}\n",
      "Best AUROC for 3 CV folds: 0.7245833333333334\n",
      "Performing GridSearch with 4 CV folds...\n",
      "Best parameters for 4 CV folds: {'C': 1, 'penalty': 'l1'}\n",
      "Best AUROC for 4 CV folds: 0.6346875\n",
      "Performing GridSearch with 5 CV folds...\n",
      "Best parameters for 5 CV folds: {'C': 1, 'penalty': 'l1'}\n",
      "Best AUROC for 5 CV folds: 0.7055625\n",
      "\n",
      "Best parameters overall: {'C': 1, 'penalty': 'l2'}\n",
      "Best AUROC overall: 0.7245833333333334\n",
      "Number of folds for best parameters: 3\n"
     ]
    },
    {
     "name": "stderr",
     "output_type": "stream",
     "text": [
      "/Users/lukeboshar/y/envs/cs135_env/lib/python3.10/site-packages/sklearn/svm/_base.py:1244: ConvergenceWarning: Liblinear failed to converge, increase the number of iterations.\n",
      "  warnings.warn(\n",
      "/Users/lukeboshar/y/envs/cs135_env/lib/python3.10/site-packages/sklearn/svm/_base.py:1244: ConvergenceWarning: Liblinear failed to converge, increase the number of iterations.\n",
      "  warnings.warn(\n"
     ]
    }
   ],
   "source": [
    "# Define the Logistic Regression model\n",
    "log_reg = LogisticRegression(solver='liblinear')\n",
    "\n",
    "# Define the hyperparameter grid for regularization (C) and penalty types\n",
    "param_grid = {\n",
    "    'C': [0.01, 0.1, 1, 10, 100],  # Different values of regularization strength\n",
    "    'penalty': ['l1', 'l2']        # Different penalty types\n",
    "}\n",
    "\n",
    "# Use AUROC as the scoring metric\n",
    "scorer = make_scorer(roc_auc_score, greater_is_better=True)\n",
    "\n",
    "# Initialize variables to store the best result across different fold searches\n",
    "best_overall_model = None\n",
    "best_overall_params = None\n",
    "best_overall_score = -1\n",
    "best_num_folds = None  # To keep track of the number of folds for the best parameters\n",
    "\n",
    "# Loop through different values of CV (3, 4, 5 folds)\n",
    "for num_folds in [3, 4, 5]:\n",
    "    print(f\"Performing GridSearch with {num_folds} CV folds...\")\n",
    "    \n",
    "    # Define the KFold cross-validator for the current fold size\n",
    "    kf = KFold(n_splits=num_folds)\n",
    "    \n",
    "    # Initialize the grid search for the current CV fold\n",
    "    grid_search = GridSearchCV(log_reg, param_grid=param_grid, \n",
    "                               scoring=scorer, cv=kf, n_jobs=-1)\n",
    "    \n",
    "    # Perform the grid search on the training data\n",
    "    grid_search.fit(X_train_bow, y_train)\n",
    "    \n",
    "    # Get the best model and score for the current fold\n",
    "    best_model = grid_search.best_estimator_\n",
    "    best_params = grid_search.best_params_\n",
    "    best_score = grid_search.best_score_\n",
    "    \n",
    "    print(f\"Best parameters for {num_folds} CV folds: {best_params}\")\n",
    "    print(f\"Best AUROC for {num_folds} CV folds: {best_score}\")\n",
    "    \n",
    "    # Compare with the overall best score\n",
    "    if best_score > best_overall_score:\n",
    "        best_overall_model = best_model\n",
    "        best_overall_params = best_params\n",
    "        best_overall_score = best_score\n",
    "        best_num_folds = num_folds  # Update the number of folds for the best parameters\n",
    "\n",
    "# Final best result after searching through all folds\n",
    "print(f\"\\nBest parameters overall: {best_overall_params}\")\n",
    "print(f\"Best AUROC overall: {best_overall_score}\")\n",
    "print(f\"Number of folds for best parameters: {best_num_folds}\")"
   ]
  },
  {
   "cell_type": "code",
   "execution_count": 28,
   "metadata": {},
   "outputs": [
    {
     "data": {
      "image/png": "[encoded data removed]",
      "text/plain": [
       "<Figure size 640x480 with 1 Axes>"
      ]
     },
     "metadata": {},
     "output_type": "display_data"
    }
   ],
   "source": [
    "# Get the results from grid search\n",
    "results = pd.DataFrame(grid_search.cv_results_)\n",
    "\n",
    "# Plot training and validation AUROC\n",
    "plt.errorbar(results['param_C'], results['mean_test_score'], yerr=results['std_test_score'], label='Validation AUROC')\n",
    "plt.xlabel('Regularization Strength (C)')\n",
    "plt.ylabel('AUROC')\n",
    "plt.title('Hyperparameter Tuning - Regularization (C)')\n",
    "plt.legend()\n",
    "plt.show()"
   ]
  },
  {
   "cell_type": "code",
   "execution_count": 32,
   "metadata": {},
   "outputs": [],
   "source": [
    "# Train the final model on the full training data using the best C\n",
    "final_model = LogisticRegression(C=best_params['C'], solver='liblinear')\n",
    "final_model.fit(X_train_bow, y_train)\n",
    "\n",
    "# Apply on test data\n",
    "x_test_df['cleaned_text'] = x_test_df['text'].apply(clean_text)\n",
    "\n",
    "# Transform test data using the trained vectorizer\n",
    "X_test_bow = vectorizer.transform(x_test_df['cleaned_text'].tolist())\n",
    "\n",
    "# Predict probabilities\n",
    "y_test_pred = final_model.predict_proba(X_test_bow)[:, 1]\n"
   ]
  },
  {
   "cell_type": "code",
   "execution_count": 33,
   "metadata": {},
   "outputs": [],
   "source": [
    "np.savetxt('yproba1_test.txt', y_test_pred, delimiter='\\n', fmt='%.6f')  # fmt='%.6f' for six decimal places\n"
   ]
  }
 ],
 "metadata": {
  "kernelspec": {
   "display_name": "Python 3",
   "language": "python",
   "name": "python3"
  },
  "language_info": {
   "codemirror_mode": {
    "name": "ipython",
    "version": 3
   },
   "file_extension": ".py",
   "mimetype": "text/x-python",
   "name": "python",
   "nbconvert_exporter": "python",
   "pygments_lexer": "ipython3",
   "version": "3.10.14"
  },
  "orig_nbformat": 4
 },
 "nbformat": 4,
 "nbformat_minor": 2
}
